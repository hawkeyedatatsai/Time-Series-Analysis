{
 "cells": [
  {
   "cell_type": "markdown",
   "id": "3b5dfed7",
   "metadata": {},
   "source": [
    "# Data\n",
    "\n",
    "[data source](https://www.kaggle.com/datasets/emmanuelfwerr/london-weather-data)"
   ]
  },
  {
   "cell_type": "code",
   "execution_count": 1,
   "id": "8ab17bdb",
   "metadata": {},
   "outputs": [],
   "source": [
    "import pandas as pd\n",
    "import matplotlib.pyplot as plt\n",
    "import seaborn as sns\n",
    "import os\n",
    "from matplotlib import dates as mdates\n",
    "\n",
    "# set visualization\n",
    "fav_style = ('bmh','tableau-colorblind10')\n",
    "plt.style.use(fav_style)"
   ]
  },
  {
   "cell_type": "code",
   "execution_count": 2,
   "id": "7e58c1ec",
   "metadata": {},
   "outputs": [],
   "source": [
    "def format_xdate(ax,freq_y,freq_m):\n",
    "    \n",
    "    # Create a year locator\n",
    "    loc_major_yr = mdates.YearLocator(freq_y)\n",
    "    # Create a year formatter using 4-digit years\n",
    "    fmt_major_yr = mdates.DateFormatter(\"%Y\")\n",
    "\n",
    "\n",
    "    # Create a month locator that will add months at 1,4,7,10\n",
    "    loc_minor_mo = mdates.MonthLocator(interval=freq_m)\n",
    "    \n",
    "\n",
    "    \n",
    "    # Set xaxis major locator/formatter\n",
    "    ax.xaxis.set_major_locator(loc_major_yr)\n",
    "    ax.xaxis.set_major_formatter(fmt_major_yr)\n",
    "\n",
    "\n",
    "    # Set xaxis minor locator/formatter\n",
    "    ax.xaxis.set_minor_locator(loc_minor_mo)\n",
    "#     ax.xaxis.set_minor_formatter(fmt_minor_3m)\n",
    "\n",
    "    \n",
    "\n",
    "    # Add gridlines for major xaxis ticks\n",
    "    ax.grid(which='major',axis='x',color='k',ls=':',lw=1)\n",
    "\n",
    "    ## Rotate the major tick years using fig.autofmt_xdate\n",
    "    fig = ax.get_figure()\n",
    "    fig.autofmt_xdate(which='major', rotation=90,ha='center')\n",
    "    return fig"
   ]
  },
  {
   "cell_type": "markdown",
   "id": "a000e35c",
   "metadata": {},
   "source": [
    "# Load and Convert Data "
   ]
  },
  {
   "cell_type": "code",
   "execution_count": 3,
   "id": "a165f5b1",
   "metadata": {},
   "outputs": [
    {
     "name": "stdout",
     "output_type": "stream",
     "text": [
      "1.5.2\n"
     ]
    }
   ],
   "source": [
    "print(pd. __version__)"
   ]
  },
  {
   "cell_type": "code",
   "execution_count": 4,
   "id": "2ad4ac3d",
   "metadata": {},
   "outputs": [
    {
     "ename": "NameError",
     "evalue": "name 'csv' is not defined",
     "output_type": "error",
     "traceback": [
      "\u001b[0;31m---------------------------------------------------------------------------\u001b[0m",
      "\u001b[0;31mNameError\u001b[0m                                 Traceback (most recent call last)",
      "Cell \u001b[0;32mIn [4], line 1\u001b[0m\n\u001b[0;32m----> 1\u001b[0m df \u001b[38;5;241m=\u001b[39m pd\u001b[38;5;241m.\u001b[39mread_csv(\u001b[38;5;124m'\u001b[39m\u001b[38;5;124m1-london_weather_MODIFIED - london_weather_MODIFIED.csv\u001b[39m\u001b[38;5;124m'\u001b[39m, quoting\u001b[38;5;241m=\u001b[39m\u001b[43mcsv\u001b[49m\u001b[38;5;241m.\u001b[39mQUOTE_NONE, quotechar\u001b[38;5;241m=\u001b[39m\u001b[38;5;124m'\u001b[39m\u001b[38;5;124m\"\u001b[39m\u001b[38;5;124m'\u001b[39m)\n\u001b[1;32m      2\u001b[0m df\n",
      "\u001b[0;31mNameError\u001b[0m: name 'csv' is not defined"
     ]
    }
   ],
   "source": [
    "df = pd.read_csv('1-london_weather_MODIFIED - london_weather_MODIFIED.csv', quoting=csv.QUOTE_NONE, quotechar='\"')\n",
    "df"
   ]
  },
  {
   "cell_type": "code",
   "execution_count": null,
   "id": "69d33118",
   "metadata": {
    "scrolled": true
   },
   "outputs": [],
   "source": [
    "#url = \"https://docs.google.com/spreadsheets/d/1J2hEGA1-ZOdXOc1Go2AjB7xShq-nAvIDpBz_XRZscHU/edit?usp=sharing\"\n",
    "#df = pd.read_csv(url, quoting=csv.QUOTE_NONE, quotechar='\"')\n",
    "#df"
   ]
  },
  {
   "cell_type": "code",
   "execution_count": null,
   "id": "680caa74",
   "metadata": {},
   "outputs": [],
   "source": [
    "# convert date to datetime\n",
    "df['date'] = pd.to_datetime(df['date'], format='%Y%m%d')\n",
    "df['date']"
   ]
  },
  {
   "cell_type": "code",
   "execution_count": null,
   "id": "7be2df8b",
   "metadata": {},
   "outputs": [],
   "source": [
    "# create a datetime index\n",
    "df = df.set_index('date')\n",
    "print(df.info())\n",
    "df.head()"
   ]
  },
  {
   "cell_type": "markdown",
   "id": "98f12cb6",
   "metadata": {},
   "source": [
    "# Filter out only the required data"
   ]
  },
  {
   "cell_type": "code",
   "execution_count": null,
   "id": "0421d69a",
   "metadata": {},
   "outputs": [],
   "source": [
    "# Convert the date column to datetime dtype.\n",
    "# Keep only data from the year 2000 or later & only have the selected features\n",
    "df = df.loc['2000':, ['precipitation', 'mean_temp', 'min_temp', \n",
    "                      'max_temp', 'snow_depth']]\n",
    "print(df.info())\n",
    "df.head()"
   ]
  },
  {
   "cell_type": "markdown",
   "id": "68ef16e9",
   "metadata": {},
   "source": [
    "# Impute missing values"
   ]
  },
  {
   "cell_type": "code",
   "execution_count": null,
   "id": "a2e90651",
   "metadata": {},
   "outputs": [],
   "source": [
    "# check the missing values\n",
    "df.isna().sum()"
   ]
  },
  {
   "cell_type": "markdown",
   "id": "6e4eae2e",
   "metadata": {},
   "source": [
    "Plan on imputing \n",
    "- Interpolate the temperature columns\n",
    "- Fill the precipitation and snow_depth columns with 0"
   ]
  },
  {
   "cell_type": "code",
   "execution_count": null,
   "id": "3262f515",
   "metadata": {},
   "outputs": [],
   "source": [
    "## interpolating temperature measures\n",
    "df['mean_temp'] = df['mean_temp'].interpolate()\n",
    "df['max_temp'] = df['max_temp'].interpolate()\n",
    "df['min_temp'] = df['min_temp'].interpolate()\n",
    "\n",
    "# filling preciptation/snow with 0\n",
    "df['precipitation'] = df['precipitation'].fillna(0)\n",
    "df['snow_depth'] = df['snow_depth'].fillna(0)"
   ]
  },
  {
   "cell_type": "code",
   "execution_count": null,
   "id": "7638da53",
   "metadata": {},
   "outputs": [],
   "source": [
    "# check the missing values again\n",
    "df.isna().sum()"
   ]
  },
  {
   "cell_type": "markdown",
   "id": "e093eb47",
   "metadata": {},
   "source": [
    "# Answer questions with visualizations"
   ]
  },
  {
   "cell_type": "markdown",
   "id": "5651eb1a",
   "metadata": {},
   "source": [
    "## 1. What month had the most precipitation between 2000 through 2010?"
   ]
  },
  {
   "cell_type": "code",
   "execution_count": null,
   "id": "63284dfe",
   "metadata": {},
   "outputs": [],
   "source": [
    "# resample precipitation to month\n",
    "df_rain = df.loc['2000':'2010', ['precipitation']].copy()\n",
    "df_rain.head()"
   ]
  },
  {
   "cell_type": "code",
   "execution_count": null,
   "id": "c8b2e02b",
   "metadata": {},
   "outputs": [],
   "source": [
    "# Resample the precipitation as Monthly frequency.\n",
    "df_rain_mo = df_rain.resample(\"MS\").sum()\n",
    "df_rain_mo.sort_values(by='precipitation', ascending=False)"
   ]
  },
  {
   "cell_type": "markdown",
   "id": "5ff33554",
   "metadata": {},
   "source": [
    "November, 2009 has the highest precipitation from 2000 to 2010\n",
    "\n"
   ]
  },
  {
   "cell_type": "code",
   "execution_count": null,
   "id": "081fbf75",
   "metadata": {},
   "outputs": [],
   "source": [
    "plt.rcParams['figure.figsize'] = (12,3)\n",
    "fig, ax = plt.subplots()\n",
    "ax.plot(df_rain_mo.index, df_rain_mo.values)\n",
    "\n",
    "ax.axvspan('2009-11-01', '2009-11-30', color = '#f7797d', alpha = 0.5, \n",
    "           zorder = 0, label = 'Max monthly precipitation: November 2009')\n",
    "\n",
    "ax.set_title('Precipitation for 2000-2010')\n",
    "ax.set_ylabel('Inches')\n",
    "fig.autofmt_xdate(which='major', rotation=90,ha='center')\n",
    "ax.legend();\n",
    "sns.move_legend(ax, \"lower center\", bbox_to_anchor=(.5, -0.4), ncol=3, title=None, frameon=False)\n",
    "format_xdate(ax,1,3);"
   ]
  },
  {
   "cell_type": "code",
   "execution_count": null,
   "id": "da7a1548",
   "metadata": {},
   "outputs": [],
   "source": [
    "## Save to PNG\n",
    "FOLDER = \"PNG/\"\n",
    "isExist = os.path.exists(FOLDER)\n",
    "    \n",
    "if isExist == False:  \n",
    "      os.makedirs(FOLDER, exist_ok=True)\n",
    "        \n",
    "fig.savefig(f'{FOLDER}/precipitation_monthly.png',bbox_inches='tight')"
   ]
  },
  {
   "cell_type": "markdown",
   "id": "0043af5f",
   "metadata": {},
   "source": [
    "## 2: Which year between 2000-2020 had the coolest average temperature?"
   ]
  },
  {
   "cell_type": "code",
   "execution_count": null,
   "id": "2401316c",
   "metadata": {},
   "outputs": [],
   "source": [
    "# slice avg temperature to 2000-2020\n",
    "df_temp = df.loc['2000':'2020', ['mean_temp']].copy()\n",
    "df_temp.head()"
   ]
  },
  {
   "cell_type": "code",
   "execution_count": null,
   "id": "aca4712b",
   "metadata": {},
   "outputs": [],
   "source": [
    "# Resample the avg temp as yearly frequency.\n",
    "df_temp_yr = df_temp.resample(\"AS\").mean()\n",
    "df_temp_yr.sort_values(by='mean_temp', ascending=True)"
   ]
  },
  {
   "cell_type": "markdown",
   "id": "150a9a93",
   "metadata": {},
   "source": [
    "The year of 2010 has the lowest yearly average temperature of 10.66 from 2000 to 2020.\n",
    "\n"
   ]
  },
  {
   "cell_type": "code",
   "execution_count": null,
   "id": "ff029147",
   "metadata": {},
   "outputs": [],
   "source": [
    "plt.rcParams['figure.figsize'] = (12,3)\n",
    "fig, ax = plt.subplots()\n",
    "ax.plot(df_temp_yr.index, df_temp_yr.values)\n",
    "\n",
    "ax.axvspan('2010-01-01', '2010-12-31', color = '#f7797d', alpha = 0.5, \n",
    "           zorder = 0, label = 'Min average temperature: 2010')\n",
    "\n",
    "ax.set_title('Average Temperature')\n",
    "ax.set_ylabel('Degrees')\n",
    "ax.legend();\n",
    "sns.move_legend(ax, \"lower center\", bbox_to_anchor=(.5, -0.4), ncol=3, title=None, frameon=False)\n",
    "\n",
    "format_xdate(ax,5,1)\n",
    "\n",
    "loc_minor_year = mdates.YearLocator(1)\n",
    "ax.xaxis.set_minor_locator(loc_minor_year)"
   ]
  },
  {
   "cell_type": "code",
   "execution_count": null,
   "id": "cb61f051",
   "metadata": {},
   "outputs": [],
   "source": [
    "## Save to PNG\n",
    "fig.savefig(f'{FOLDER}/avg_temp_yearly.png',bbox_inches='tight')"
   ]
  }
 ],
 "metadata": {
  "kernelspec": {
   "display_name": "Python (dojo-env)",
   "language": "python",
   "name": "dojo-env"
  },
  "language_info": {
   "codemirror_mode": {
    "name": "ipython",
    "version": 3
   },
   "file_extension": ".py",
   "mimetype": "text/x-python",
   "name": "python",
   "nbconvert_exporter": "python",
   "pygments_lexer": "ipython3",
   "version": "3.9.15"
  },
  "toc": {
   "base_numbering": 1,
   "nav_menu": {},
   "number_sections": false,
   "sideBar": true,
   "skip_h1_title": false,
   "title_cell": "Table of Contents",
   "title_sidebar": "Contents",
   "toc_cell": false,
   "toc_position": {},
   "toc_section_display": true,
   "toc_window_display": false
  }
 },
 "nbformat": 4,
 "nbformat_minor": 5
}
